{
 "cells": [
  {
   "cell_type": "code",
   "execution_count": 60,
   "metadata": {},
   "outputs": [],
   "source": [
    "import sys\n",
    "from vtk import *"
   ]
  },
  {
   "cell_type": "code",
   "execution_count": 61,
   "metadata": {},
   "outputs": [],
   "source": [
    "pointcloud = \"gdcanyon_cloud.vtk\"\n",
    "topography = \"gdcanyon_image.vtk.vtk\"\n",
    "#read pointcloud\n",
    "preader = vtk.vtkDataSetReader()\n",
    "preader.SetFileName(pointcloud)\n",
    "preader.ReadAllVectorsOn()\n",
    "preader.ReadAllScalarsOn()\n",
    "preader.Update()\n",
    "pmapper = vtkDataSetMapper()\n",
    "\n",
    "# read topograpy\n",
    "treader = vtk.vtkDataSetReader()\n",
    "treader.SetFileName(topography)\n",
    "treader.ReadAllVectorsOn()\n",
    "treader.ReadAllScalarsOn()\n",
    "treader.Update()\n",
    "tmapper = vtkDataSetMapper()\n",
    "\n",
    "\n"
   ]
  },
  {
   "cell_type": "code",
   "execution_count": 62,
   "metadata": {},
   "outputs": [],
   "source": [
    "pout = preader.GetPolyDataOutput()\n",
    "tout = treader.GetPolyDataOutput()"
   ]
  },
  {
   "cell_type": "code",
   "execution_count": 63,
   "metadata": {
    "scrolled": false
   },
   "outputs": [],
   "source": [
    "# delaunay triangulation\n",
    "\n",
    "#create class\n",
    "delaunay = vtk.vtkDelaunay2D()\n",
    "# get input data from point cloud\n",
    "delaunay.SetInputData(x.GetPolyDataOutput())\n",
    "delaunay.Update()\n",
    "\n",
    "# map mesh\n",
    "meshMapper = vtk.vtkPolyDataMapper()\n",
    "meshMapper.SetInputConnection(delaunay.GetOutputPort())\n",
    "\n",
    "meshActor = vtk.vtkActor()\n",
    "meshActor.SetMapper(meshMapper)\n",
    "meshActor.GetProperty().SetEdgeColor(0, 0, 1)\n",
    "meshActor.GetProperty().SetInterpolationToFlat()\n",
    "meshActor.GetProperty().SetRepresentationToWireframe()\n",
    "\n",
    "boundaryMapper = vtk.vtkPolyDataMapper()\n",
    "\n",
    "boundaryActor = vtk.vtkActor()\n",
    "boundaryActor.SetMapper(boundaryMapper)\n",
    "boundaryActor.GetProperty().SetColor(1, 0, 0)\n",
    "\n",
    "renderer = vtk.vtkRenderer()\n",
    "renderWindow = vtk.vtkRenderWindow()\n",
    "renderWindow.AddRenderer(renderer)\n",
    "renderWindowInteractor = vtk.vtkRenderWindowInteractor()\n",
    "renderWindowInteractor.SetRenderWindow(renderWindow)\n",
    "renderer.AddActor(meshActor)\n",
    "renderer.AddActor(boundaryActor)\n",
    "renderer.SetBackground(.3, .6, .3)\n",
    "\n",
    "renderWindowInteractor.Initialize()\n",
    "renderWindow.Render()\n",
    "renderWindowInteractor.Start()"
   ]
  },
  {
   "cell_type": "code",
   "execution_count": 58,
   "metadata": {},
   "outputs": [
    {
     "ename": "AttributeError",
     "evalue": "'NoneType' object has no attribute 'GetOutput'",
     "output_type": "error",
     "traceback": [
      "\u001b[0;31m---------------------------------------------------------------------------\u001b[0m",
      "\u001b[0;31mAttributeError\u001b[0m                            Traceback (most recent call last)",
      "\u001b[0;32m<ipython-input-58-04c4ed3ea1a4>\u001b[0m in \u001b[0;36m<module>\u001b[0;34m()\u001b[0m\n\u001b[1;32m      1\u001b[0m \u001b[0;31m# Mesh Free\u001b[0m\u001b[0;34m\u001b[0m\u001b[0;34m\u001b[0m\u001b[0m\n\u001b[1;32m      2\u001b[0m \u001b[0;34m\u001b[0m\u001b[0m\n\u001b[0;32m----> 3\u001b[0;31m \u001b[0moutput\u001b[0m \u001b[0;34m=\u001b[0m \u001b[0mtout\u001b[0m\u001b[0;34m.\u001b[0m\u001b[0mGetOutput\u001b[0m\u001b[0;34m(\u001b[0m\u001b[0;34m)\u001b[0m\u001b[0;34m.\u001b[0m\u001b[0mGetBlock\u001b[0m\u001b[0;34m(\u001b[0m\u001b[0;36m0\u001b[0m\u001b[0;34m)\u001b[0m\u001b[0;34m\u001b[0m\u001b[0m\n\u001b[0m\u001b[1;32m      4\u001b[0m \u001b[0mcenter\u001b[0m \u001b[0;34m=\u001b[0m \u001b[0moutput\u001b[0m\u001b[0;34m.\u001b[0m\u001b[0mGetCenter\u001b[0m\u001b[0;34m(\u001b[0m\u001b[0;34m)\u001b[0m\u001b[0;34m\u001b[0m\u001b[0m\n\u001b[1;32m      5\u001b[0m \u001b[0;34m\u001b[0m\u001b[0m\n",
      "\u001b[0;31mAttributeError\u001b[0m: 'NoneType' object has no attribute 'GetOutput'"
     ]
    }
   ],
   "source": [
    "# Mesh Free\n",
    "\n",
    "output = tout.GetOutput().GetBlock(0)\n",
    "center = output.GetCenter()\n",
    "\n",
    "plane = vtk.vtkPlaneSource()\n",
    "plane.SetResolution(res,res)\n",
    "plane.SetOrigin(0,0,0)\n",
    "plane.SetPoint1(10,0,0)\n",
    "plane.SetPoint2(0,10,0)\n",
    "plane.SetCenter(center)\n",
    "plane.SetNormal(0,1,0)\n",
    "\n",
    "# Reuse the locator\n",
    "locator = vtk.vtkStaticPointLocator()\n",
    "locator.SetDataSet(output)\n",
    "locator.BuildLocator()\n",
    "\n",
    "shepardKernel = vtk.vtkShepardKernel()\n",
    "shepardKernel.SetPowerParameter(2)\n",
    "shepardKernel.SetRadius(0.5)\n",
    "\n",
    "interpolator = vtk.vtkPointInterpolator()\n",
    "interpolator.SetInputConnection(plane.GetOutputPort())\n",
    "interpolator.SetSourceData(pout)\n",
    "interpolator.SetKernel(shepardKernel)\n",
    "interpolator.SetNullPointsStrategyToMaskPoints()\n",
    "interpolator.Update()\n",
    "\n",
    "\n",
    "meshMapper = vtk.vtkPolyDataMapper()\n",
    "meshMapper.SetInputConnection(interpolator.GetOutputPort())\n",
    "\n",
    "meshActor = vtk.vtkActor()\n",
    "meshActor.SetMapper(meshMapper)\n",
    "\n",
    "\n",
    "renderer = vtk.vtkRenderer()\n",
    "renderWindow = vtk.vtkRenderWindow()\n",
    "renderWindow.AddRenderer(renderer)\n",
    "renderWindowInteractor = vtk.vtkRenderWindowInteractor()\n",
    "renderWindowInteractor.SetRenderWindow(renderWindow)\n",
    "renderer.AddActor(meshActor)\n",
    "\n",
    "renderer.SetBackground(.3, .6, .3)\n",
    "\n",
    "renderWindowInteractor.Initialize()\n",
    "renderWindow.Render()\n",
    "renderWindowInteractor.Start()\n"
   ]
  },
  {
   "cell_type": "code",
   "execution_count": 30,
   "metadata": {},
   "outputs": [],
   "source": [
    "# create actor\n",
    "actor = vtk.vtkActor()\n",
    "actor.SetMapper(mapper)\n",
    "\n",
    "# Create a renderer and add the actor to the scene\n",
    "renderer = vtk.vtkRenderer()\n",
    "renderer.AddActor(actor)\n",
    "\n",
    "# Create render window \n",
    "renderWindow = vtk.vtkRenderWindow()\n",
    "renderWindow.SetSize(900, 600) # Set the window size you want\n",
    "renderWindow.AddRenderer(renderer)\n",
    "\n",
    "# Set-up interactor\n",
    "renderWindowInteractor = vtk.vtkRenderWindowInteractor()\n",
    "\n",
    "# Use track-ball interaction style instead of joystick style\n",
    "style =\tvtk.vtkInteractorStyleTrackballCamera()\n",
    "\n",
    "renderWindowInteractor.SetInteractorStyle(style)\n",
    "renderWindowInteractor.SetRenderWindow(renderWindow)\n",
    "\n",
    "# Render and interact\n",
    "renderWindow.Render()\n",
    "renderWindowInteractor.Start()\n"
   ]
  },
  {
   "cell_type": "code",
   "execution_count": null,
   "metadata": {},
   "outputs": [],
   "source": []
  }
 ],
 "metadata": {
  "kernelspec": {
   "display_name": "Python 2",
   "language": "python",
   "name": "python2"
  },
  "language_info": {
   "codemirror_mode": {
    "name": "ipython",
    "version": 2
   },
   "file_extension": ".py",
   "mimetype": "text/x-python",
   "name": "python",
   "nbconvert_exporter": "python",
   "pygments_lexer": "ipython2",
   "version": "2.7.14"
  }
 },
 "nbformat": 4,
 "nbformat_minor": 2
}
